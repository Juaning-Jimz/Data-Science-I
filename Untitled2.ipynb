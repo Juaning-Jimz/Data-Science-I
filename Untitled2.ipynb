{
  "nbformat": 4,
  "nbformat_minor": 0,
  "metadata": {
    "colab": {
      "provenance": [],
      "authorship_tag": "ABX9TyODxotpUP3CvHUoZ7FLSOUT",
      "include_colab_link": true
    },
    "kernelspec": {
      "name": "python3",
      "display_name": "Python 3"
    },
    "language_info": {
      "name": "python"
    }
  },
  "cells": [
    {
      "cell_type": "markdown",
      "metadata": {
        "id": "view-in-github",
        "colab_type": "text"
      },
      "source": [
        "<a href=\"https://colab.research.google.com/github/Juaning-Jimz/Data-Science-I/blob/main/Untitled2.ipynb\" target=\"_parent\"><img src=\"https://colab.research.google.com/assets/colab-badge.svg\" alt=\"Open In Colab\"/></a>"
      ]
    },
    {
      "cell_type": "markdown",
      "source": [
        "# Hola soy un cabezon"
      ],
      "metadata": {
        "id": "sY1I18oMmUZJ"
      }
    },
    {
      "cell_type": "code",
      "execution_count": 1,
      "metadata": {
        "colab": {
          "base_uri": "https://localhost:8080/"
        },
        "id": "So3wZxv_iZxa",
        "outputId": "7fe83522-9de0-407d-f314-a28cff1b3fe1"
      },
      "outputs": [
        {
          "output_type": "stream",
          "name": "stdout",
          "text": [
            "hola,mundo!\n"
          ]
        }
      ],
      "source": [
        "print('hola,mundo!')"
      ]
    },
    {
      "cell_type": "code",
      "source": [
        "mi_primer_variable = None"
      ],
      "metadata": {
        "id": "kH7xlpicoAES"
      },
      "execution_count": 2,
      "outputs": []
    },
    {
      "cell_type": "code",
      "source": [
        "mi_primer_variable = 'Pele'\n",
        "print(mi_primer_variable)"
      ],
      "metadata": {
        "colab": {
          "base_uri": "https://localhost:8080/"
        },
        "id": "ITDxmweToH-o",
        "outputId": "56fb5490-21e5-4ca5-fd05-09f0377886a9"
      },
      "execution_count": 3,
      "outputs": [
        {
          "output_type": "stream",
          "name": "stdout",
          "text": [
            "Pele\n"
          ]
        }
      ]
    },
    {
      "cell_type": "code",
      "source": [
        "mi_primer_variable = 10000\n",
        "print(mi_primer_variable)"
      ],
      "metadata": {
        "colab": {
          "base_uri": "https://localhost:8080/"
        },
        "id": "P3-ZssULopve",
        "outputId": "5ae6b1f1-11e6-4733-db76-c5607ff3849e"
      },
      "execution_count": 4,
      "outputs": [
        {
          "output_type": "stream",
          "name": "stdout",
          "text": [
            "10000\n"
          ]
        }
      ]
    },
    {
      "cell_type": "markdown",
      "source": [
        "#VAMOS A HACER A UN SALUDADOR"
      ],
      "metadata": {
        "id": "PcZ0kjm1pYM3"
      }
    },
    {
      "cell_type": "code",
      "source": [
        "nombre = input('Me podrias decir tu nombre:\\n ')\n",
        "saludo = 'Hola, tu nombres es:' + nombre\n",
        "print(saludo)"
      ],
      "metadata": {
        "colab": {
          "base_uri": "https://localhost:8080/"
        },
        "id": "2bgFws7spVVU",
        "outputId": "d8996e59-a639-4467-d99f-175704ab56d9"
      },
      "execution_count": 8,
      "outputs": [
        {
          "output_type": "stream",
          "name": "stdout",
          "text": [
            "Me podrias decir tu nombre:\n",
            " Nacho\n",
            "Hola, tu nombres es:Nacho\n"
          ]
        }
      ]
    },
    {
      "cell_type": "code",
      "source": [
        "#Sumatoria hasta el numero 2000 de los numeros impares\n",
        "suma = 0\n",
        "for i in range(1,2001,2):\n",
        "    suma += i\n",
        "print(suma)"
      ],
      "metadata": {
        "colab": {
          "base_uri": "https://localhost:8080/"
        },
        "id": "KIOkQT79qyRy",
        "outputId": "973aece9-59c4-4981-af4a-eef113234f0e"
      },
      "execution_count": 10,
      "outputs": [
        {
          "output_type": "stream",
          "name": "stdout",
          "text": [
            "1000000\n"
          ]
        }
      ]
    },
    {
      "cell_type": "markdown",
      "source": [
        "Buscar informacion sobre alguna funcion, terminar con el caracter ?\n"
      ],
      "metadata": {
        "id": "_RNFY-S6ttEt"
      }
    },
    {
      "cell_type": "code",
      "source": [
        "max?"
      ],
      "metadata": {
        "id": "Th0Tm_26tJa6"
      },
      "execution_count": 12,
      "outputs": []
    },
    {
      "cell_type": "code",
      "source": [
        "import math\n",
        "import random"
      ],
      "metadata": {
        "id": "bQVZQaDZt798"
      },
      "execution_count": 17,
      "outputs": []
    },
    {
      "cell_type": "code",
      "source": [
        "#math.pi *\n",
        "variable = []\n",
        "for i in list(range(1,100)):\n",
        "  numero = random.random() * i\n",
        "  variable.append(numero)\n",
        "print(variable)"
      ],
      "metadata": {
        "colab": {
          "base_uri": "https://localhost:8080/"
        },
        "id": "SlyRiOxAuXzC",
        "outputId": "d10b5306-a02a-4963-ec24-dc071eeeac57"
      },
      "execution_count": 22,
      "outputs": [
        {
          "output_type": "stream",
          "name": "stdout",
          "text": [
            "[0.7022176305018187, 0.9176456668210327, 0.8266176370894428, 1.2282226021633051, 1.4264905975151099, 3.4247605497480014, 0.7910243242843656, 7.616685921869746, 8.360163588972, 0.026134332203648913, 0.4708097440135637, 7.45759910371766, 4.767627919725731, 10.896572657947047, 1.3421821886907477, 2.0359908517894265, 10.576813175902457, 15.597452736531634, 7.729304777546353, 7.125380886614543, 15.529131766761447, 15.018342635705244, 22.022132401791723, 0.8168917206928841, 3.841632710889034, 11.066136831552857, 9.247252664211015, 15.548734873316217, 14.091329144688142, 6.9247840779586936, 30.218919203780683, 11.302255117746576, 23.66628396440291, 27.531066709109865, 28.439612509370768, 2.597506626460199, 28.80426256346975, 22.340103854285314, 11.276458477082025, 4.867722948786106, 15.7910417856566, 35.757607909343335, 39.46008279783365, 27.12464344577492, 0.10105770406886538, 6.281416877475037, 33.79938084059885, 18.95146385437198, 46.409871493755986, 17.94158086173388, 44.475753107025696, 22.982939113796174, 12.204169855850214, 22.890614017641617, 3.567986202452321, 44.36936218885461, 32.10603932089876, 55.34764672782599, 7.7820762918175905, 3.380986041456333, 20.763122094637165, 27.38737478845095, 11.565585598671001, 33.722740464628146, 41.008067833045914, 18.087780679245576, 55.20247995010895, 7.808253863624346, 35.64404689435414, 29.69242992308593, 22.759585747250565, 14.610996533943595, 36.00407205852651, 2.4496503491128916, 26.601199379587513, 23.50386755744708, 34.00999728940854, 18.02269912438703, 12.596181659246328, 56.11316008475348, 35.43174318970521, 76.665897148664, 54.938826562548044, 73.77288067925824, 34.25117979670427, 37.70567572938393, 46.566244616699905, 14.584618858347568, 44.06397936009142, 87.49111002434725, 11.614044309293268, 4.814245474052727, 89.12776629969721, 79.88891415536712, 54.364281348188726, 8.21859470607189, 64.9784017879593, 72.17810900863648, 49.453540598750784]\n"
          ]
        }
      ]
    },
    {
      "cell_type": "code",
      "source": [
        "contador = 0\n",
        "variable_a_mostrar = variable[contador]\n",
        "while variable_a_mostrar < 30:\n",
        "  print(variable_a_mostrar)\n",
        "  contador += 1\n",
        "  variable_a_mostrar = variable[contador]"
      ],
      "metadata": {
        "colab": {
          "base_uri": "https://localhost:8080/"
        },
        "id": "yla4bppuxXx7",
        "outputId": "7731cebe-6391-4d37-da2e-4fb56132e17e"
      },
      "execution_count": 25,
      "outputs": [
        {
          "output_type": "stream",
          "name": "stdout",
          "text": [
            "0.7022176305018187\n",
            "0.9176456668210327\n",
            "0.8266176370894428\n",
            "1.2282226021633051\n",
            "1.4264905975151099\n",
            "3.4247605497480014\n",
            "0.7910243242843656\n",
            "7.616685921869746\n",
            "8.360163588972\n",
            "0.026134332203648913\n",
            "0.4708097440135637\n",
            "7.45759910371766\n",
            "4.767627919725731\n",
            "10.896572657947047\n",
            "1.3421821886907477\n",
            "2.0359908517894265\n",
            "10.576813175902457\n",
            "15.597452736531634\n",
            "7.729304777546353\n",
            "7.125380886614543\n",
            "15.529131766761447\n",
            "15.018342635705244\n",
            "22.022132401791723\n",
            "0.8168917206928841\n",
            "3.841632710889034\n",
            "11.066136831552857\n",
            "9.247252664211015\n",
            "15.548734873316217\n",
            "14.091329144688142\n",
            "6.9247840779586936\n"
          ]
        }
      ]
    },
    {
      "cell_type": "markdown",
      "source": [
        "## Funciones\n"
      ],
      "metadata": {
        "id": "BleURlDnyb3a"
      }
    },
    {
      "cell_type": "code",
      "source": [
        "#Funcion --> Bloques determinados por un retorno de valor y por medio de parametros de entrada\n",
        "#Define su comportamiento\n",
        "def breacker_pinter(lista_iterable:list,tope:int) -> str:\n",
        "    contador = 0\n",
        "    while lista_iterable[contador] < tope:\n",
        "      print(f\"el nuermo a de iteracion es: {contador} --> su valor es \\t {lista_iterable[contador]:.3f}\")\n",
        "      contador += 1\n",
        "    else:\n",
        "      return f\"Ya me fui, el siguiente numero es suprior a {tope}\"\n",
        ""
      ],
      "metadata": {
        "id": "O9nxy5AAyQnp"
      },
      "execution_count": 34,
      "outputs": []
    },
    {
      "cell_type": "code",
      "source": [
        "#Llamado\n",
        "breacker_pinter(variable,10)"
      ],
      "metadata": {
        "id": "agJH1GF71Kho"
      },
      "execution_count": null,
      "outputs": []
    },
    {
      "cell_type": "code",
      "source": [
        "iterable = [ x for x in random.sample(range(1, 100), 50)]\n",
        "#Obtener una funcion que me otergue el valor maximo\n",
        "\n",
        "def valor_maximo( x:list )-> int :\n",
        "  maximo = x[0]\n",
        "  for numero in x:\n",
        "    if numero > maximo:\n",
        "      maximo = numero\n",
        "\n",
        "  return maximo"
      ],
      "metadata": {
        "id": "YgafDggY3_sm"
      },
      "execution_count": 40,
      "outputs": []
    },
    {
      "cell_type": "code",
      "source": [
        "valor_maximo(iterable)"
      ],
      "metadata": {
        "colab": {
          "base_uri": "https://localhost:8080/"
        },
        "id": "plzKDfx05jRe",
        "outputId": "15d5c5bd-1d26-4ae5-a614-e314be1820c8"
      },
      "execution_count": 41,
      "outputs": [
        {
          "output_type": "execute_result",
          "data": {
            "text/plain": [
              "99"
            ]
          },
          "metadata": {},
          "execution_count": 41
        }
      ]
    }
  ]
}